{
 "cells": [
  {
   "cell_type": "markdown",
   "metadata": {},
   "source": [
    "This notebook reproduces tests in Ripperda+ 2018: https://ui.adsabs.harvard.edu/abs/2018ApJS..235...21R/abstract\n",
    "\n",
    "More tests/methods will be included with time. Using CGS units instead of MKS of that paper."
   ]
  },
  {
   "cell_type": "code",
   "execution_count": 1,
   "metadata": {},
   "outputs": [],
   "source": [
    "import numpy as np\n",
    "import matplotlib.pyplot as plt\n",
    "from scipy.integrate import solve_ivp\n",
    "import sys\n",
    "import os"
   ]
  },
  {
   "cell_type": "code",
   "execution_count": 2,
   "metadata": {},
   "outputs": [],
   "source": [
    "#parameters in cgs units\n",
    "m = 9.1e-27 #electron's mass in CGS units (gram)\n",
    "e = 5.e-10 #electron's charge in CGS units (esu) \n",
    "qbym = -e/m #electron's charge to mass ratio \n",
    "c = 3.e10 #speed of light\n",
    "\n",
    "prob = 'EcrossB'\n",
    "method = 'Boris'\n",
    "\n",
    "if (prob == 'UniE'):\n",
    "    qbym = 1.\n",
    "    c = 1.\n",
    "\n",
    "if (prob == 'UniB'):\n",
    "    qbym = 1.\n",
    "    c = 1.\n",
    "    \n",
    "if (prob == 'ForceFree'):\n",
    "    qbym = 1.\n",
    "    c = 1.\n",
    "    \n",
    "if (prob == 'EcrossB'):\n",
    "    qbym = 1.\n",
    "    c = 1.    "
   ]
  },
  {
   "cell_type": "code",
   "execution_count": 3,
   "metadata": {},
   "outputs": [],
   "source": [
    "def cal_E(x, prob = 'UniE'):\n",
    "    if (prob == 'UniE'):\n",
    "        return np.array([1.0, 0.0, 0.0])\n",
    "    if (prob == 'UniB'):\n",
    "        return np.array([0.0, 0.0, 0.0])\n",
    "    if (prob == 'ForceFree'):\n",
    "        return np.array([-(1-0.5/1.e12), 0.0, 0.0])\n",
    "    if (prob == 'EcrossB'):\n",
    "        return np.array([1. - 5.e-5, 0.0, 0.0])\n",
    "\n",
    "def cal_B(x, prob = 'UniE'): \n",
    "    if (prob == 'UniE'):\n",
    "        return np.array([0.0, 0.0, 0.0])\n",
    "    if (prob == 'UniB'):\n",
    "        return np.array([0.0, 0.0, 1.e6])\n",
    "    if (prob == 'ForceFree'):\n",
    "        return np.array([0.0, 0.0, 1.0])\n",
    "    if (prob == 'EcrossB'):\n",
    "        return np.array([0., 0., 1.])"
   ]
  },
  {
   "cell_type": "code",
   "execution_count": 4,
   "metadata": {},
   "outputs": [],
   "source": [
    "#initial conditions\n",
    "if (prob == 'UniE'):\n",
    "    xp = np.array([0., 0., 0.])\n",
    "    up = np.array([0., 0., 0.]) #4-velocity\n",
    "if (prob == 'UniB'):\n",
    "    xp = np.array([0., 0., 0.])\n",
    "    up = np.array([0., -1.e6*(1-0.5*1e-12), 0.]) #4-velocity\n",
    "if (prob == 'ForceFree'):\n",
    "    xp = np.array([0., 0., 0.])\n",
    "    up = np.array([0., 1.e6*(1-0.5*1e-12), 0.]) #4-velocity\n",
    "if (prob == 'EcrossB'):\n",
    "    xp = np.array([0., 0., 0.])\n",
    "    up = np.array([0., 0., 0.]) #4-velocity"
   ]
  },
  {
   "cell_type": "code",
   "execution_count": 5,
   "metadata": {},
   "outputs": [],
   "source": [
    "if (prob == 'UniE'):\n",
    "    tend = 1.e9\n",
    "    dt = 1.e3\n",
    "if (prob == 'UniB'):\n",
    "    w_c0 = 1./np.abs(qbym)\n",
    "    tend = 100*2.0*np.pi/w_c0 #evolve for 100 Larmor orbits\n",
    "    dt = 0.01*2*np.pi/w_c0 #1/100th of a cyclotron orbit\n",
    "if (prob == 'ForceFree'):\n",
    "    tend = 1.e5\n",
    "    dt = 1.0\n",
    "if (prob == 'EcrossB'):\n",
    "    tend = 2.*np.pi*1.e5\n",
    "    dt = 0.5\n",
    "dt0 = dt"
   ]
  },
  {
   "cell_type": "code",
   "execution_count": 6,
   "metadata": {},
   "outputs": [],
   "source": [
    "time = 0\n",
    "data_t = []\n",
    "data_t.append(np.append(xp,up)) #appends to the list; list to hold 6 coordinates at each time"
   ]
  },
  {
   "cell_type": "code",
   "execution_count": 7,
   "metadata": {
    "tags": []
   },
   "outputs": [],
   "source": [
    "def update_xpup(dt, xp, up, qbym, c, method = 'Boris'): #synchronised leapfrog; Eqs. 6-8 in Ripperda+ 2018\n",
    "    gamma = np.sqrt( 1 + np.inner(up, up)/(c*c) )\n",
    "    xp += 0.5*dt*up/gamma #x^{n+1/2}\n",
    "    Ep = cal_E(xp, prob)\n",
    "    Bp = cal_B(xp, prob)\n",
    "    if (method == 'Boris'):\n",
    "        up += 0.5*dt*qbym*Ep #uminus\n",
    "        gamma = np.sqrt( 1 + np.inner(up, up)/(c*c) )\n",
    "        t = Bp*0.5*dt*qbym/(c*gamma)\n",
    "        s = 2*t/(1 + np.inner(t, t))\n",
    "        up += np.cross((up + np.cross(up, t)), s) #uplus\n",
    "        up += 0.5*dt*qbym*Ep #u^{n+1}\n",
    "    if (method == 'Vay'):\n",
    "        up += 0.5*dt*qbym*(Ep + np.cross(up, Bp)/(c*gamma) ) #u^{n+1/2}\n",
    "        up += 0.5*dt*qbym*Ep #uprime\n",
    "        gamma = np.sqrt( 1 + np.inner(up, up)/(c*c) ) #gamma^\\prime\n",
    "        t = 0.5*Bp*qbym*dt/c #tau\n",
    "        ustar = np.inner(up, t)/c\n",
    "        tau_sqr = np.inner(t, t)\n",
    "        sig = gamma*gamma - tau_sqr\n",
    "        gamma = np.sqrt( 0.5*( sig + np.sqrt(sig*sig + 4*(tau_sqr + ustar*ustar) ) ) ) #gamma^{n+1}\n",
    "        t /= gamma #t\n",
    "        s = 1/( 1 + np.inner(t, t) ) #s\n",
    "        up = s*( up + np.inner(up, t)*t + np.cross(up, t) ) #u^{n+1}\n",
    "        #sys.exit()\n",
    "    if (method == 'HC'):\n",
    "        up += 0.5*dt*qbym*Ep #uminus\n",
    "        gamma = np.sqrt( 1 + np.inner(up, up)/(c*c) ) #gamma^-\n",
    "        t = 0.5*Bp*qbym*dt/c #tau\n",
    "        ustar = np.inner(up, t)/c\n",
    "        tau_sqr = np.inner(t, t)\n",
    "        sig = gamma*gamma - tau_sqr\n",
    "        gamma = np.sqrt( 0.5*( sig + np.sqrt(sig*sig + 4*(tau_sqr + ustar*ustar) ) ) ) #gamma^+\n",
    "        t /= gamma #t\n",
    "        s = 1/( 1 + np.inner(t, t) ) #s\n",
    "        up = s*(up + np.inner(up, t)*t + np.cross(up, t) ) #u^+\n",
    "        up += 0.5*dt*qbym*Ep + np.cross(up, t)\n",
    "        \n",
    "    gamma = np.sqrt( 1 + np.inner(up, up)/(c*c) ) #gamma^{n+1}\n",
    "    xp += 0.5*dt*up/gamma\n",
    "    return xp, up"
   ]
  },
  {
   "cell_type": "code",
   "execution_count": null,
   "metadata": {},
   "outputs": [],
   "source": [
    "while (time < tend):\n",
    "    dt = min(dt, tend-time)\n",
    "    time += dt\n",
    "    xp, up = update_xpup(dt, np.copy(xp), np.copy(up), qbym, c, method = method)\n",
    "    if (time != tend):\n",
    "        data_t.append(np.append(xp, up))"
   ]
  },
  {
   "cell_type": "code",
   "execution_count": null,
   "metadata": {},
   "outputs": [],
   "source": [
    "data_t = np.array(data_t)\n",
    "t = np.linspace(0, tend, np.size(data_t[:,0]))\n",
    "if (prob == 'UniE'):\n",
    "    #plt.plot(t, data_t[:,0])\n",
    "    plt.plot(t, np.sqrt(1. + data_t[:,3]*data_t[:,3]/(c*c)) )\n",
    "if (prob == 'UniB'):\n",
    "    plt.plot(data_t[:,0], data_t[:,1],'.', markersize=0.1)\n",
    "    plt.axis('equal')\n",
    "if (prob == 'ForceFree'):\n",
    "    plt.plot(t, data_t[:,0])\n",
    "    #plt.plot(t, data_t[:,3])\n",
    "if (prob == 'EcrossB'):\n",
    "    plt.plot(data_t[:,0], data_t[:,1],'.', markersize=0.1)\n",
    "plt.grid()"
   ]
  }
 ],
 "metadata": {
  "kernelspec": {
   "display_name": "Python 3 (ipykernel)",
   "language": "python",
   "name": "python3"
  },
  "language_info": {
   "codemirror_mode": {
    "name": "ipython",
    "version": 3
   },
   "file_extension": ".py",
   "mimetype": "text/x-python",
   "name": "python",
   "nbconvert_exporter": "python",
   "pygments_lexer": "ipython3",
   "version": "3.11.3"
  }
 },
 "nbformat": 4,
 "nbformat_minor": 4
}
